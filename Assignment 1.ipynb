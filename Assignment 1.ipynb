{
  "nbformat": 4,
  "nbformat_minor": 0,
  "metadata": {
    "colab": {
      "provenance": []
    },
    "kernelspec": {
      "name": "python3",
      "display_name": "Python 3"
    },
    "language_info": {
      "name": "python"
    }
  },
  "cells": [
    {
      "cell_type": "code",
      "execution_count": null,
      "metadata": {
        "id": "RZQMvpgf7vHU"
      },
      "outputs": [],
      "source": []
    },
    {
      "cell_type": "markdown",
      "source": [
        "int led_green = 12;\n",
        "int led_red = 13;\n",
        "int sensor = 8;\n",
        "int buzzer = 7;\n",
        "void setup()\n",
        "{\n",
        "  pinMode(led_green, OUTPUT);\n",
        "  pinMode(led_red, OUTPUT);\n",
        "  pinMode(sensor,INPUT);\n",
        "  pinMode(buzzer,OUTPUT);\n",
        "  Serial.begin(9600);\n",
        "}\n",
        "\n",
        "void loop()\n",
        "{\n",
        "  digitalWrite(led_red, LOW);\n",
        "  digitalWrite(buzzer, LOW);\n",
        "  digitalWrite(led_green, LOW);\n",
        "  \n",
        "  int value = analogRead(A0);\n",
        "  Serial.println(value);\n",
        "  if(value >= 500)\n",
        "  {\n",
        "    digitalWrite(led_red, HIGH);\n",
        "    digitalWrite(buzzer, HIGH);\n",
        "   \tdigitalWrite(led_green, LOW);\n",
        "    delay(1000);\n",
        "  }\n",
        "  if(value < 500)\n",
        "  {\n",
        "    digitalWrite(led_green, HIGH);\n",
        "    digitalWrite(led_red, LOW);\n",
        "    digitalWrite(buzzer, LOW);\n",
        "    delay(1000);\n",
        "  }\n",
        "\n",
        "}"
      ],
      "metadata": {
        "id": "jE139bPK7xRG"
      }
    }
  ]
}